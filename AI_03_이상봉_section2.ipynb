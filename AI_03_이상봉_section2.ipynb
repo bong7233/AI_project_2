{
 "cells": [
  {
   "cell_type": "markdown",
   "metadata": {},
   "source": [
    "# Section_2 project"
   ]
  },
  {
   "cell_type": "markdown",
   "metadata": {},
   "source": [
    "1. 데이터 선정 이유 및 문제(분류/회귀 정의)  \n",
    "\n",
    "2. 데이터를 이용한 가설 및 평가지표, 베이스라인 선택  \n",
    "데이터를 선정함과 동시에 데이터를 통해서 내가 무엇을 해볼 수 있을지 가설을 세우는 것이 중요합니다. 가설은 쓸모 있어야 한다는 사실을 잊지마시길 바랍니다.\n",
    "데이터 기반의 사고방식, data-driven의 마음가짐을 section1과 2에서 배웠습니다. 이번에는 그것들을 심화시켜서 문제 해결을 시도 해봅니다.  \n",
    ".  \n",
    "해당 특성을 target으로 지정한 이유  \n",
    "해당 베이스라인 모델과 평가지표를 선택한 이유  \n",
    "\n",
    "3. EDA와 데이터 전처리  \n",
    "가설을 정했고 베이스라인을 만들었다면 데이터의 탐색 및 가공  \n",
    "EDA  \n",
    "Feature Engineering  \n",
    "데이터의 정규화  \n",
    "노이즈 제거  \n",
    "결측치 제거 혹은 대체  \n",
    "데이터 밸런스  \n",
    "그 외  \n",
    "Data Leakage가 있었나요? 없었다면 어떻게 방지했나요?  \n",
    "만들고자 하는 모델은 언제 유용한가요? 어떤 한계를 가지고 있나요?  \n",
    "\n",
    "4. 머신러닝 방식 적용 및 교차검증  \n",
    " 베이스라인과의 성능 비교  \n",
    "Linear / Tree-based / Ensemble 모델을 학습(다양하게 시도)  \n",
    "평가지표를 계산 후 베이스라인과 비교  \n",
    "성능이 나왔다면, 교차 검증 (이하 CV)을 통해 일반화될 가능성이 있는지 확인  \n",
    "모델 성능을 개선하기 위한 다양한 방법을 적용  \n",
    "Hyperparameter tuning, etc.  \n",
    "최소 2개 이상의 모델을 만들어서 validation 점수를 보고  \n",
    "최종 모델의 test 점수를 보고  \n",
    "모델을 학습한 후에 베이스라인보다 잘 나왔나요? 그렇지 않다면 그 이유는 무엇일까요?  모델 성능 개선을 위해 어떤 방법을 적용했나요? 그 방법을 선택한 이유는 무엇인가요?  \n",
    "최종 모델에 관해 설명하세요.  \n",
    "\n",
    "5. 머신러닝 모델 해석\n",
    "SHAP, PDP 등을 통해 모델이 관측치를 어떤 특성을 활용했거나, 어떤 특성이 타겟에 영향을 끼쳤는지 등을 해석하는 방법을 사용하여 비전문가라도 조금 더 쉽게 이해하고 접근할 수 있도록 설명  \n",
    "PDP, SHAP을 활용하여 최종 모델을 설명  \n",
    "시각화 + \"설명\" 중요  \n",
    "모델이 관측치를 예측하기 위해서 어떤 특성을 활용했나?  \n",
    "어떤 특성이 있다면 모델의 예측에 도움이 될까?  \n",
    "해당 특성은 어떻게 구할 수 있을까?  "
   ]
  },
  {
   "cell_type": "code",
   "execution_count": null,
   "metadata": {},
   "outputs": [],
   "source": []
  },
  {
   "cell_type": "code",
   "execution_count": null,
   "metadata": {},
   "outputs": [],
   "source": []
  },
  {
   "cell_type": "code",
   "execution_count": null,
   "metadata": {},
   "outputs": [],
   "source": []
  },
  {
   "cell_type": "code",
   "execution_count": null,
   "metadata": {},
   "outputs": [],
   "source": []
  },
  {
   "cell_type": "code",
   "execution_count": null,
   "metadata": {},
   "outputs": [],
   "source": []
  },
  {
   "cell_type": "code",
   "execution_count": null,
   "metadata": {},
   "outputs": [],
   "source": []
  },
  {
   "cell_type": "code",
   "execution_count": null,
   "metadata": {},
   "outputs": [],
   "source": []
  },
  {
   "cell_type": "code",
   "execution_count": null,
   "metadata": {},
   "outputs": [],
   "source": []
  },
  {
   "cell_type": "code",
   "execution_count": null,
   "metadata": {},
   "outputs": [],
   "source": []
  },
  {
   "cell_type": "code",
   "execution_count": null,
   "metadata": {},
   "outputs": [],
   "source": []
  },
  {
   "cell_type": "code",
   "execution_count": null,
   "metadata": {},
   "outputs": [],
   "source": []
  },
  {
   "cell_type": "code",
   "execution_count": null,
   "metadata": {},
   "outputs": [],
   "source": []
  }
 ],
 "metadata": {
  "kernelspec": {
   "display_name": "Python 3",
   "language": "python",
   "name": "python3"
  },
  "language_info": {
   "codemirror_mode": {
    "name": "ipython",
    "version": 3
   },
   "file_extension": ".py",
   "mimetype": "text/x-python",
   "name": "python",
   "nbconvert_exporter": "python",
   "pygments_lexer": "ipython3",
   "version": "3.8.5"
  }
 },
 "nbformat": 4,
 "nbformat_minor": 4
}
